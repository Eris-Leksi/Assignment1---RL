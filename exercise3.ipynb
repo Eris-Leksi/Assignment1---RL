{
 "cells": [
  {
   "cell_type": "markdown",
   "id": "52293b1c",
   "metadata": {},
   "source": [
    "# Reinforcement Learning Programming - CSCN 8020\n",
    "\n",
    "## Assignment 1\n",
    "\n",
    "### Exercise 3\n",
    "\n",
    "### Done by ***Eris Leksi***"
   ]
  },
  {
   "cell_type": "markdown",
   "id": "e45206a6",
   "metadata": {},
   "source": [
    "Problem 3 [35]\n",
    "\n",
    "\n",
    "Problem Statement\n",
    "\n",
    "5x5 Gridworld: In Lecture 3’s programming exercise (here), we explored an MDP based on a 5x5\n",
    "gridworld and implemented Value Iteration to estimate the optimal state-value function (V∗) and\n",
    "optimal policy (π∗).\n",
    "\n",
    "The environment can be described as follows:\n",
    "\n",
    "Figure 2: 5x5 Gridworld\n",
    "\n",
    "• States: states are identified by their row and column, the same as a regular matrix. Ex: the\n",
    "state in row 0 and column 3 is s0,3 (Figure: 2)\n",
    "\n",
    "– Terminal/Goal state: The episode ends if the agent reached this state. sGoal = s4,4\n",
    "\n",
    "– Grey states: {s2,2, s3,0, s0,4}, these are valid but non-favourable states, as will be seen in\n",
    "the reward function.\n",
    "\n",
    "• Actions: a1 = right, a2 = down, a3 = down, a4 = up for all states.\n",
    "\n",
    "• Transitions: If an action is valid, the transition is deterministic, otherwise s′ = s\n",
    "\n",
    "• Rewards R(s):\n",
    "\n",
    "R(s) = +10 s = s4,4\n",
    "= −5 s ∈ S\n",
    "\n",
    "grey = s2,2, s3,0, s0,4\n",
    "\n",
    "= −1 s ∈ S ̸= s4,4, Sgrey\n",
    "\n",
    "Tasks\n",
    "\n",
    "Task1: Update MDP Code\n",
    "\n",
    "1. Update the reward function to be a list of reward based on whether the state is terminal, grey,\n",
    "or a regular state.\n",
    "\n",
    "2. Run the existing code developed in class and obtain the optimal state-values and optimal policy.\n",
    "Provide a figures of the gridworld with the obtained V∗ and π∗ (You can manually create a table).\n",
    "\n",
    "Task 2: Value Iteration Variations\n",
    "\n",
    "Implement the following variation of value iteration. Confirm that it reaches the same optimal statevalue function and policy.\n",
    "\n",
    "1. In-Place Value Iteration: Use a single array to store the state values. This means that you\n",
    "update the value of a state and immediately use that updated value in the subsequent updates.\n",
    "\n",
    "Deliverables\n",
    "\n",
    "• Full code with comments to explain key steps and calculations.\n",
    "\n",
    "• Provide the estimated value function for each state.\n",
    "\n",
    "• Important: Compare the performance of these variations in terms of optimization time, number\n",
    "of episodes, and provide comments on their computational complexity."
   ]
  },
  {
   "cell_type": "markdown",
   "id": "673355b5",
   "metadata": {},
   "source": [
    "## Solution"
   ]
  },
  {
   "cell_type": "markdown",
   "id": "46995afd",
   "metadata": {},
   "source": [
    "We consider a 5x5 Gridworld MDP with the following setup:\n",
    "\n",
    "- **States**: (r,c), where r,c ∈ {0,1,2,3,4}. \n",
    "- **Actions**: Right (→), Left (←), Down (↓), Up (↑). Deterministic; off-grid = stay.  \n",
    "- **Rewards**:  \n",
    "  - Goal (4,4): +10  \n",
    "  - Grey cells {(2,2), (3,0), (0,4)}: −5  \n",
    "  - All other states: −1  \n",
    "- **Terminal state**: (4,4) is absorbing.  \n",
    "- **Discount factor**: γ = 0.9  "
   ]
  },
  {
   "cell_type": "markdown",
   "id": "5ff7f297",
   "metadata": {},
   "source": [
    "### Tasks\n",
    "1. Implement value iteration with the updated reward function.  \n",
    "2. Compare **standard (synchronous)** and **in-place (Gauss–Seidel)** value iteration in terms of convergence speed and policy.  "
   ]
  },
  {
   "cell_type": "markdown",
   "id": "62da8584",
   "metadata": {},
   "source": [
    "### Key Idea\n",
    "Both algorithms repeatedly apply the Bellman optimality operator:\n",
    "\n",
    "$$\n",
    "V_{k+1}(s) = \\max_a \\Big[ R(s) + \\gamma V_k(T(s,a)) \\Big]\n",
    "$$\n",
    "\n",
    "\n",
    "- **Synchronous VI**: updates all states from the previous value table.  \n",
    "- **In-place VI**: updates states immediately and reuses fresh values within the same sweep.  \n",
    "Both converge to the same fixed point \\(V^*\\), but in-place usually converges faster.  \n"
   ]
  },
  {
   "cell_type": "markdown",
   "id": "c50c9bc3",
   "metadata": {},
   "source": [
    "### Code: "
   ]
  },
  {
   "cell_type": "markdown",
   "id": "9074a4e3",
   "metadata": {},
   "source": [
    "#### Necessary methods"
   ]
  },
  {
   "cell_type": "code",
   "execution_count": 19,
   "id": "356a57fd",
   "metadata": {},
   "outputs": [],
   "source": [
    "# ---------- 1) Environment Setup ----------\n",
    "import numpy as np\n",
    "\n",
    "ROWS, COLS = 5, 5\n",
    "GOAL = (4, 4)\n",
    "GREY = {(2, 2), (3, 0), (0, 4)}\n",
    "GAMMA = 0.9\n",
    "\n",
    "# State-based reward table R(s)\n",
    "R = np.full((ROWS, COLS), -1.0, dtype=float)\n",
    "for (r, c) in GREY:\n",
    "    R[r, c] = -5.0\n",
    "R[GOAL] = 10.0\n",
    "\n",
    "# Actions: up, down, left, right\n",
    "ACTIONS = [(-1, 0), (1, 0), (0, -1), (0, 1)]\n",
    "ARROWS = {(-1, 0): \"↑\", (1, 0): \"↓\", (0, -1): \"←\", (0, 1): \"→\"}\n",
    "\n",
    "def next_state(r, c, dr, dc):\n",
    "    \"\"\"Deterministic transition with walls: invalid moves -> stay.\"\"\"\n",
    "    nr, nc = r + dr, c + dc\n",
    "    if 0 <= nr < ROWS and 0 <= nc < COLS:\n",
    "        return (nr, nc)\n",
    "    return (r, c)\n"
   ]
  },
  {
   "cell_type": "code",
   "execution_count": null,
   "id": "8f8b8a1a",
   "metadata": {},
   "outputs": [],
   "source": [
    "# ---------- 2) Value Iteration Functions ----------\n",
    "def value_iteration_synchronous(theta=1e-10, max_iter=10000):\n",
    "    \"\"\"Synchronous (Jacobi) value iteration.\"\"\"\n",
    "    V = np.zeros((ROWS, COLS), dtype=float)\n",
    "    it = 0\n",
    "    while it < max_iter:\n",
    "        delta = 0.0\n",
    "        V_new = V.copy()\n",
    "        for r in range(ROWS):\n",
    "            for c in range(COLS):\n",
    "                if (r, c) == GOAL:\n",
    "                    best = R[r, c]\n",
    "                else:\n",
    "                    q_vals = [R[r, c] + GAMMA * V[next_state(r,c,dr,dc)] for dr, dc in ACTIONS]\n",
    "                    best = max(q_vals)\n",
    "                delta = max(delta, abs(V_new[r, c] - best))\n",
    "                V_new[r, c] = best\n",
    "        V = V_new\n",
    "        it += 1\n",
    "        if delta < theta:\n",
    "            break\n",
    "    return V, it\n",
    "\n",
    "def value_iteration_inplace(theta=1e-10, max_iter=10000):\n",
    "    \"\"\"In-place (Gauss-Seidel) value iteration.\"\"\"\n",
    "    V = np.zeros((ROWS, COLS), dtype=float)\n",
    "    it = 0\n",
    "    while it < max_iter:\n",
    "        delta = 0.0\n",
    "        for r in range(ROWS):\n",
    "            for c in range(COLS):\n",
    "                old_v = V[r, c]\n",
    "                if (r, c) == GOAL:\n",
    "                    best = R[r, c]\n",
    "                else:\n",
    "                    q_vals = [R[r, c] + GAMMA * V[next_state(r,c,dr,dc)] for dr, dc in ACTIONS]\n",
    "                    best = max(q_vals)\n",
    "                V[r, c] = best\n",
    "                delta = max(delta, abs(old_v - best))\n",
    "        it += 1\n",
    "        if delta < theta:\n",
    "            break\n",
    "    return V, it"
   ]
  },
  {
   "cell_type": "code",
   "execution_count": 15,
   "id": "b4f58199",
   "metadata": {},
   "outputs": [],
   "source": [
    "# ---------- 3) Policy Extraction ----------\n",
    "def greedy_policy_from(V):\n",
    "    \"\"\"Greedy policy π* from value table.\"\"\"\n",
    "    policy = np.full((ROWS, COLS), \"·\", dtype=object)\n",
    "    for r in range(ROWS):\n",
    "        for c in range(COLS):\n",
    "            if (r, c) == GOAL:\n",
    "                policy[r, c] = \"G\"\n",
    "            else:\n",
    "                best_a, best_q = None, -np.inf\n",
    "                for (dr, dc) in ACTIONS:\n",
    "                    nr, nc = next_state(r, c, dr, dc)\n",
    "                    q = R[r, c] + GAMMA * V[nr, nc]\n",
    "                    if q > best_q:\n",
    "                        best_q, best_a = q, (dr, dc)\n",
    "                policy[r, c] = ARROWS[best_a]\n",
    "    return policy"
   ]
  },
  {
   "cell_type": "code",
   "execution_count": 16,
   "id": "ed967cb9",
   "metadata": {},
   "outputs": [],
   "source": [
    "# ---------- 4) Pretty Printers ----------\n",
    "def print_value_table(V, title=\"V-table\"):\n",
    "    print(f\"\\n{title}:\")\n",
    "    for r in range(ROWS):\n",
    "        row = \"  \".join(f\"{V[r, c]:6.3f}\" for c in range(COLS))\n",
    "        print(row)\n",
    "\n",
    "def print_policy(policy, title=\"Greedy policy (arrows)\"):\n",
    "    print(f\"\\n{title}:\")\n",
    "    for r in range(ROWS):\n",
    "        row = \"  \".join(f\"{policy[r, c]}\" for c in range(COLS))\n",
    "        print(row)"
   ]
  },
  {
   "cell_type": "markdown",
   "id": "212a6ef9",
   "metadata": {},
   "source": [
    "#### Running "
   ]
  },
  {
   "cell_type": "code",
   "execution_count": 17,
   "id": "4f635f45",
   "metadata": {},
   "outputs": [
    {
     "name": "stdout",
     "output_type": "stream",
     "text": [
      "\n",
      "V* (Standard VI):\n",
      "-1.391  -0.434   0.629   1.810  -0.878\n",
      "-0.434   0.629   1.810   3.122   4.580\n",
      " 0.629   1.810  -0.878   4.580   6.200\n",
      "-2.190   3.122   4.580   6.200   8.000\n",
      " 3.122   4.580   6.200   8.000  10.000\n",
      "\n",
      "π* (Standard VI):\n",
      "↓  ↓  ↓  ↓  ↓\n",
      "↓  ↓  →  ↓  ↓\n",
      "→  ↓  ↓  ↓  ↓\n",
      "↓  ↓  ↓  ↓  ↓\n",
      "→  →  →  →  G\n",
      "\n",
      "V* (In-Place VI):\n",
      "-1.391  -0.434   0.629   1.810  -0.878\n",
      "-0.434   0.629   1.810   3.122   4.580\n",
      " 0.629   1.810  -0.878   4.580   6.200\n",
      "-2.190   3.122   4.580   6.200   8.000\n",
      " 3.122   4.580   6.200   8.000  10.000\n",
      "\n",
      "π* (In-Place VI):\n",
      "↓  ↓  ↓  ↓  ↓\n",
      "↓  ↓  →  ↓  ↓\n",
      "→  ↓  ↓  ↓  ↓\n",
      "↓  ↓  ↓  ↓  ↓\n",
      "→  →  →  →  G\n",
      "\n",
      "--- Convergence Summary ---\n",
      "Standard VI: iters=10, time=1.44 ms\n",
      "In-Place  VI: iters=10, time=2.05 ms\n",
      "Max |V_std - V_inp| = 0.000e+00\n",
      "OK: Both methods converge to the same V* and π*.\n"
     ]
    }
   ],
   "source": [
    "# ---------- 5) Run Both Variants ----------\n",
    "from time import perf_counter\n",
    "\n",
    "# Standard VI\n",
    "t0 = perf_counter()\n",
    "V_std, it_std = value_iteration_synchronous()\n",
    "t1 = perf_counter()\n",
    "pi_std = greedy_policy_from(V_std)\n",
    "\n",
    "# In-place VI\n",
    "t2 = perf_counter()\n",
    "V_inp, it_inp = value_iteration_inplace()\n",
    "t3 = perf_counter()\n",
    "pi_inp = greedy_policy_from(V_inp)\n",
    "\n",
    "# Print results\n",
    "print_value_table(V_std, \"V* (Standard VI)\")\n",
    "print_policy(pi_std, \"π* (Standard VI)\")\n",
    "\n",
    "print_value_table(V_inp, \"V* (In-Place VI)\")\n",
    "print_policy(pi_inp, \"π* (In-Place VI)\")\n",
    "\n",
    "# Summary + sanity checks\n",
    "print(\"\\n--- Convergence Summary ---\")\n",
    "print(f\"Standard VI: iters={it_std}, time={(t1 - t0)*1000:.2f} ms\")\n",
    "print(f\"In-Place  VI: iters={it_inp}, time={(t3 - t2)*1000:.2f} ms\")\n",
    "print(f\"Max |V_std - V_inp| = {np.max(np.abs(V_std - V_inp)):.3e}\")\n",
    "\n",
    "assert np.allclose(V_std, V_inp, atol=1e-8), \"V* mismatch!\"\n",
    "assert (pi_std == pi_inp).all(), \"π* mismatch!\"\n",
    "print(\"OK: Both methods converge to the same V* and π*.\")"
   ]
  },
  {
   "cell_type": "code",
   "execution_count": 18,
   "id": "b02491cd",
   "metadata": {},
   "outputs": [
    {
     "data": {
      "image/png": "[encoded data removed]",
      "text/plain": [
       "<Figure size 1200x500 with 4 Axes>"
      ]
     },
     "metadata": {},
     "output_type": "display_data"
    },
    {
     "data": {
      "image/png": "[encoded data removed]",
      "text/plain": [
       "<Figure size 500x500 with 1 Axes>"
      ]
     },
     "metadata": {},
     "output_type": "display_data"
    }
   ],
   "source": [
    "# ---------- 6) Visualization ----------\n",
    "import matplotlib.pyplot as plt\n",
    "import seaborn as sns\n",
    "\n",
    "# Value function heatmaps\n",
    "plt.figure(figsize=(12,5))\n",
    "\n",
    "plt.subplot(1,2,1)\n",
    "sns.heatmap(V_std, annot=True, fmt=\".2f\", cmap=\"coolwarm\")\n",
    "plt.title(\"V* (Standard VI)\")\n",
    "\n",
    "plt.subplot(1,2,2)\n",
    "sns.heatmap(V_inp, annot=True, fmt=\".2f\", cmap=\"coolwarm\")\n",
    "plt.title(\"V* (In-Place VI)\")\n",
    "\n",
    "plt.show()\n",
    "\n",
    "# Policy visualization using arrows\n",
    "def plot_policy_arrows(policy):\n",
    "    fig, ax = plt.subplots(figsize=(5,5))\n",
    "    for r in range(ROWS):\n",
    "        for c in range(COLS):\n",
    "            val = policy[r, c]\n",
    "            if val == \"G\":\n",
    "                ax.text(c+0.5, ROWS-r-0.5, \"G\", ha='center', va='center', fontsize=16, color=\"green\")\n",
    "            elif val != \"·\":\n",
    "                dx, dy = 0, 0\n",
    "                if val == \"↑\": dx, dy = 0, 0.3\n",
    "                elif val == \"↓\": dx, dy = 0, -0.3\n",
    "                elif val == \"→\": dx, dy = 0.3, 0\n",
    "                elif val == \"←\": dx, dy = -0.3, 0\n",
    "                ax.arrow(c+0.5-dx/2, ROWS-r-0.5-dy/2, dx, dy, head_width=0.1, head_length=0.1, fc='black', ec='black')\n",
    "    ax.set_xlim(0, COLS)\n",
    "    ax.set_ylim(0, ROWS)\n",
    "    ax.set_xticks(np.arange(0, COLS+1, 1))\n",
    "    ax.set_yticks(np.arange(0, ROWS+1, 1))\n",
    "    ax.grid(True)\n",
    "    ax.set_aspect('equal')\n",
    "    plt.show()\n",
    "\n",
    "plot_policy_arrows(pi_std)"
   ]
  },
  {
   "cell_type": "markdown",
   "id": "1af6ccdd",
   "metadata": {},
   "source": [
    "### Interpretation of Results\n",
    "\n",
    "| Aspect            | Synchronous VI                  | In-Place VI (Gauss–Seidel)       | Observation |\n",
    "|-------------------|---------------------------------|----------------------------------|-------------|\n",
    "| Iterations        | 10 sweeps                        | 10 sweeps                        | Same convergence speed |\n",
    "| Runtime           | ~1.44 ms                         | ~2.05 ms                         | Minor Python overhead |\n",
    "| Value Function    | Values increase toward goal (max 10 at bottom-right) | Identical to synchronous | Both capture optimal returns |\n",
    "| Optimal Policy    | Arrows funnel agent ↓ and → toward goal | Identical policy | Goal-directed and consistent |\n",
    "| Agreement Check   | Max |ΔV| = 0                    | Policies identical               | Both yield the same \\(V^*\\) and \\(π^*\\) |\n",
    "\n",
    "**Conclusions**: \n",
    "\n",
    "1. Both methods converge to the same optimal values and policy. Differences are only in update style and minor runtime variance.  \n",
    "2. In this example, both Synchronous VI and In-Place VI converged in the **same number of iterations**; runtime differences are negligible.  \n",
    "3. The resulting **policy** effectively guides the agent to the goal while avoiding penalties.\n"
   ]
  }
 ],
 "metadata": {
  "kernelspec": {
   "display_name": "Python 3",
   "language": "python",
   "name": "python3"
  },
  "language_info": {
   "codemirror_mode": {
    "name": "ipython",
    "version": 3
   },
   "file_extension": ".py",
   "mimetype": "text/x-python",
   "name": "python",
   "nbconvert_exporter": "python",
   "pygments_lexer": "ipython3",
   "version": "3.12.3"
  }
 },
 "nbformat": 4,
 "nbformat_minor": 5
}
